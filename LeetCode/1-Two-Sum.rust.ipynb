{
 "cells": [
  {
   "cell_type": "markdown",
   "metadata": {},
   "source": [
    "# 1. Two Sum"
   ]
  },
  {
   "cell_type": "markdown",
   "metadata": {},
   "source": [
    "## Question\n",
    "\n",
    "Given an array of integers, return indices of the two numbers such that they add up to a specific target.\n",
    "\n",
    "You may assume that each input would have exactly one solution, and you may not use the same element twice.\n",
    "\n",
    "Example:\n",
    "```\n",
    "Given nums = [2, 7, 11, 15], target = 9,\n",
    "\n",
    "Because nums[0] + nums[1] = 2 + 7 = 9,\n",
    "return [0, 1].\n",
    "```"
   ]
  },
  {
   "cell_type": "markdown",
   "metadata": {},
   "source": [
    "## Solution\n",
    "\n",
    "This is a simple question. Find *a* and *b* in a set, make them satisfy `a + b = target`.\n"
   ]
  },
  {
   "cell_type": "markdown",
   "metadata": {},
   "source": [
    "### Brute Force\n",
    "\n",
    "By brute force, loop through each element in set and judge have another element equal to it."
   ]
  },
  {
   "cell_type": "markdown",
   "metadata": {},
   "source": [
    "#### Code"
   ]
  },
  {
   "cell_type": "code",
   "execution_count": 2,
   "metadata": {},
   "outputs": [],
   "source": [
    "pub struct Solution {}\n",
    "\n",
    "impl Solution {\n",
    "    pub fn two_sum_brute_force(nums: Vec<i32>, target: i32) -> Vec<i32> {\n",
    "        for i in 0..nums.len() {\n",
    "            for j in i..nums.len() {\n",
    "                if &nums[j] + &nums[i] == target  {\n",
    "                    return vec![ i as i32, j as i32 ];\n",
    "                }\n",
    "            }\n",
    "        }\n",
    "        vec![]\n",
    "    }\n",
    "}"
   ]
  },
  {
   "cell_type": "markdown",
   "metadata": {},
   "source": [
    "#### Result"
   ]
  },
  {
   "cell_type": "code",
   "execution_count": 3,
   "metadata": {},
   "outputs": [],
   "source": [
    "assert_eq!(vec![0, 1], Solution::two_sum_brute_force(vec![2, 7, 11, 15], 9));"
   ]
  },
  {
   "cell_type": "markdown",
   "metadata": {},
   "source": [
    "#### Complexity Analysis\n",
    "\n",
    "* Time complexity: *O(n<sup>2</sup>)*. Use two loops to traverse the *nums* vector, so it spent *O(n) x O(n)*.\n",
    "* Space complexity: *O(1)*. Only use some temporary variables."
   ]
  },
  {
   "cell_type": "markdown",
   "metadata": {},
   "source": [
    "### Two-pass Hash Table Approach\n",
    "\n",
    "Analysis shows that the brute force way takes a lot of time for traverse vertor. As we know, hash table is the best way to maintain a mapping of some elements' value to these index. I create two iterations, one of them create nums hash table, another do check work."
   ]
  },
  {
   "cell_type": "markdown",
   "metadata": {},
   "source": [
    "#### Code"
   ]
  },
  {
   "cell_type": "code",
   "execution_count": 4,
   "metadata": {},
   "outputs": [],
   "source": [
    "use std::collections::HashMap;\n",
    "\n",
    "impl Solution {\n",
    "    pub fn two_sum_two_pass_hash_table(nums: Vec<i32>, target: i32) -> Vec<i32> {\n",
    "        let mut map: HashMap<i32, i32> = HashMap::new();\n",
    "        for i in 0..nums.len() {\n",
    "            map.insert(nums[i].to_owned(), i as i32);\n",
    "        }\n",
    "        for i in 0..nums.len() {\n",
    "            let complement = target - nums[i];\n",
    "            if map.contains_key(&complement) && map.get(&complement) != Some(&(i as i32)) {\n",
    "                return vec![i as i32, map.get(&complement).unwrap().to_owned()];\n",
    "            }\n",
    "        }\n",
    "        vec![]\n",
    "    }\n",
    "}"
   ]
  },
  {
   "cell_type": "markdown",
   "metadata": {},
   "source": [
    "#### Result"
   ]
  },
  {
   "cell_type": "code",
   "execution_count": 5,
   "metadata": {},
   "outputs": [],
   "source": [
    "assert_eq!(vec![0, 1], Solution::two_sum_two_pass_hash_table(vec![2, 7, 11, 15], 9));"
   ]
  },
  {
   "cell_type": "markdown",
   "metadata": {},
   "source": [
    "#### Complexity Analysis\n",
    "\n",
    "* Time complexity: *O(n)*. Traverse hash table twice, and since the hash table reduces the look up time to O(1), the time complexity is O(n).\n",
    "* Space complexity: *O(n)*. Stores *n* elements."
   ]
  },
  {
   "cell_type": "markdown",
   "metadata": {},
   "source": [
    "### One-pass Hash Table Approach\n",
    "\n",
    "After observation we can find insert and check element in once traverse is better."
   ]
  },
  {
   "cell_type": "markdown",
   "metadata": {},
   "source": [
    "#### Code"
   ]
  },
  {
   "cell_type": "code",
   "execution_count": 6,
   "metadata": {},
   "outputs": [],
   "source": [
    "impl Solution {\n",
    "    pub fn two_sum_one_pass_hash_table(nums: Vec<i32>, target: i32) -> Vec<i32> {\n",
    "        let mut map: HashMap<i32, i32> = HashMap::new();\n",
    "        for i in 0..nums.len() {\n",
    "            let complement = target - nums[i];\n",
    "            if map.contains_key(&complement) && map.get(&complement) != Some(&(i as i32)) {\n",
    "                return vec![map.get(&complement).unwrap().to_owned(), i as i32];\n",
    "            }\n",
    "            map.insert(nums[i].to_owned(), i as i32);\n",
    "        }\n",
    "        vec![]\n",
    "    }\n",
    "}"
   ]
  },
  {
   "cell_type": "markdown",
   "metadata": {},
   "source": [
    "#### Result"
   ]
  },
  {
   "cell_type": "code",
   "execution_count": 7,
   "metadata": {},
   "outputs": [],
   "source": [
    "assert_eq!(vec![0, 1], Solution::two_sum_one_pass_hash_table(vec![2, 7, 11, 15], 9));"
   ]
  },
  {
   "cell_type": "markdown",
   "metadata": {},
   "source": [
    "#### Complexity Analysis\n",
    "\n",
    "* Time complexity: *O(n)*. Traverse hash table once, so it spent *O(n)*.\n",
    "* Space complexity: *O(n)*. Ditto."
   ]
  }
 ],
 "metadata": {
  "kernelspec": {
   "display_name": "Rust",
   "language": "rust",
   "name": "rust"
  },
  "language_info": {
   "codemirror_mode": "rust",
   "file_extension": ".rs",
   "mimetype": "text/rust",
   "name": "Rust",
   "pygment_lexer": "rust",
   "version": ""
  }
 },
 "nbformat": 4,
 "nbformat_minor": 4
}
